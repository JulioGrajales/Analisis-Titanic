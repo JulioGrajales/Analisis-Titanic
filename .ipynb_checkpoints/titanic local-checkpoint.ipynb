{
 "cells": [
  {
   "cell_type": "code",
   "execution_count": 1,
   "id": "according-cooperation",
   "metadata": {},
   "outputs": [],
   "source": [
    "# dependencia numpy\n",
    "import numpy as np \n",
    "\n",
    "# procesamiento de datos\n",
    "import pandas as pd \n",
    "\n",
    "# visualizacion de datos\n",
    "import seaborn as sns\n",
    "%matplotlib inline\n",
    "from matplotlib import pyplot as plt\n",
    "from matplotlib import style\n",
    "\n",
    "# modelos de inteligencia artificial\n",
    "from sklearn import linear_model\n",
    "from sklearn.linear_model import LogisticRegression\n",
    "from sklearn.ensemble import RandomForestClassifier\n",
    "from sklearn.linear_model import Perceptron\n",
    "from sklearn.linear_model import SGDClassifier\n",
    "from sklearn.tree import DecisionTreeClassifier\n",
    "from sklearn.neighbors import KNeighborsClassifier\n",
    "from sklearn.svm import SVC, LinearSVC\n",
    "from sklearn.naive_bayes import GaussianNB\n",
    "\n",
    "import warnings\n",
    "warnings.filterwarnings('ignore')\n"
   ]
  },
  {
   "cell_type": "markdown",
   "id": "western-exchange",
   "metadata": {},
   "source": [
    "## Obteniendo los datos"
   ]
  },
  {
   "cell_type": "code",
   "execution_count": 2,
   "id": "needed-korea",
   "metadata": {},
   "outputs": [
    {
     "name": "stdout",
     "output_type": "stream",
     "text": [
      "<class 'pandas.core.frame.DataFrame'>\n",
      "RangeIndex: 891 entries, 0 to 890\n",
      "Data columns (total 12 columns):\n",
      " #   Column       Non-Null Count  Dtype  \n",
      "---  ------       --------------  -----  \n",
      " 0   PassengerId  891 non-null    int64  \n",
      " 1   Survived     891 non-null    int64  \n",
      " 2   Pclass       891 non-null    int64  \n",
      " 3   Name         891 non-null    object \n",
      " 4   Sex          891 non-null    object \n",
      " 5   Age          714 non-null    float64\n",
      " 6   SibSp        891 non-null    int64  \n",
      " 7   Parch        891 non-null    int64  \n",
      " 8   Ticket       891 non-null    object \n",
      " 9   Fare         891 non-null    float64\n",
      " 10  Cabin        204 non-null    object \n",
      " 11  Embarked     889 non-null    object \n",
      "dtypes: float64(2), int64(5), object(5)\n",
      "memory usage: 83.7+ KB\n"
     ]
    }
   ],
   "source": [
    "info_entrenamiento = pd.read_csv(\"train.csv\")\n",
    "info_prueba = pd.read_csv(\"test.csv\")\n",
    "\n",
    "\n",
    "info_entrenamiento.info()"
   ]
  },
  {
   "cell_type": "markdown",
   "id": "environmental-duncan",
   "metadata": {},
   "source": [
    "passengerid: id de pasajero\n",
    "\n",
    "survived: 1 si sobrevivio 0 sino\n",
    "\n",
    "Pclass: clase de ticket, 1=rico 2=medio 3=pobre\n",
    "\n",
    "Name: nombre del pasajero\n",
    "\n",
    "Sex: sexo del pasajero\n",
    "\n",
    "Age: edad del pasajero, si es menor a 1 es fraccional, si es estimada termina en .5, hay valores nulos\n",
    "\n",
    "SibSp: numero de hermanos y conyuges del pasajero\n",
    "\n",
    "ParCh: numero de padres e hijos del pasajero\n",
    "\n",
    "ticket: numero de ticket\n",
    "\n",
    "fare: tarifa de pasajeros\n",
    "\n",
    "Cabin: numero de cabina, hay valores nulos\n",
    "\n",
    "Embarked: el puerto en el que embarcaron, hay valores nulos\n"
   ]
  },
  {
   "cell_type": "code",
   "execution_count": 3,
   "id": "dressed-greece",
   "metadata": {},
   "outputs": [
    {
     "data": {
      "text/html": [
       "<div>\n",
       "<style scoped>\n",
       "    .dataframe tbody tr th:only-of-type {\n",
       "        vertical-align: middle;\n",
       "    }\n",
       "\n",
       "    .dataframe tbody tr th {\n",
       "        vertical-align: top;\n",
       "    }\n",
       "\n",
       "    .dataframe thead th {\n",
       "        text-align: right;\n",
       "    }\n",
       "</style>\n",
       "<table border=\"1\" class=\"dataframe\">\n",
       "  <thead>\n",
       "    <tr style=\"text-align: right;\">\n",
       "      <th></th>\n",
       "      <th>PassengerId</th>\n",
       "      <th>Survived</th>\n",
       "      <th>Pclass</th>\n",
       "      <th>Age</th>\n",
       "      <th>SibSp</th>\n",
       "      <th>Parch</th>\n",
       "      <th>Fare</th>\n",
       "    </tr>\n",
       "  </thead>\n",
       "  <tbody>\n",
       "    <tr>\n",
       "      <th>count</th>\n",
       "      <td>891.000000</td>\n",
       "      <td>891.000000</td>\n",
       "      <td>891.000000</td>\n",
       "      <td>714.000000</td>\n",
       "      <td>891.000000</td>\n",
       "      <td>891.000000</td>\n",
       "      <td>891.000000</td>\n",
       "    </tr>\n",
       "    <tr>\n",
       "      <th>mean</th>\n",
       "      <td>446.000000</td>\n",
       "      <td>0.383838</td>\n",
       "      <td>2.308642</td>\n",
       "      <td>29.699118</td>\n",
       "      <td>0.523008</td>\n",
       "      <td>0.381594</td>\n",
       "      <td>32.204208</td>\n",
       "    </tr>\n",
       "    <tr>\n",
       "      <th>std</th>\n",
       "      <td>257.353842</td>\n",
       "      <td>0.486592</td>\n",
       "      <td>0.836071</td>\n",
       "      <td>14.526497</td>\n",
       "      <td>1.102743</td>\n",
       "      <td>0.806057</td>\n",
       "      <td>49.693429</td>\n",
       "    </tr>\n",
       "    <tr>\n",
       "      <th>min</th>\n",
       "      <td>1.000000</td>\n",
       "      <td>0.000000</td>\n",
       "      <td>1.000000</td>\n",
       "      <td>0.420000</td>\n",
       "      <td>0.000000</td>\n",
       "      <td>0.000000</td>\n",
       "      <td>0.000000</td>\n",
       "    </tr>\n",
       "    <tr>\n",
       "      <th>25%</th>\n",
       "      <td>223.500000</td>\n",
       "      <td>0.000000</td>\n",
       "      <td>2.000000</td>\n",
       "      <td>20.125000</td>\n",
       "      <td>0.000000</td>\n",
       "      <td>0.000000</td>\n",
       "      <td>7.910400</td>\n",
       "    </tr>\n",
       "    <tr>\n",
       "      <th>50%</th>\n",
       "      <td>446.000000</td>\n",
       "      <td>0.000000</td>\n",
       "      <td>3.000000</td>\n",
       "      <td>28.000000</td>\n",
       "      <td>0.000000</td>\n",
       "      <td>0.000000</td>\n",
       "      <td>14.454200</td>\n",
       "    </tr>\n",
       "    <tr>\n",
       "      <th>75%</th>\n",
       "      <td>668.500000</td>\n",
       "      <td>1.000000</td>\n",
       "      <td>3.000000</td>\n",
       "      <td>38.000000</td>\n",
       "      <td>1.000000</td>\n",
       "      <td>0.000000</td>\n",
       "      <td>31.000000</td>\n",
       "    </tr>\n",
       "    <tr>\n",
       "      <th>max</th>\n",
       "      <td>891.000000</td>\n",
       "      <td>1.000000</td>\n",
       "      <td>3.000000</td>\n",
       "      <td>80.000000</td>\n",
       "      <td>8.000000</td>\n",
       "      <td>6.000000</td>\n",
       "      <td>512.329200</td>\n",
       "    </tr>\n",
       "  </tbody>\n",
       "</table>\n",
       "</div>"
      ],
      "text/plain": [
       "       PassengerId    Survived      Pclass         Age       SibSp  \\\n",
       "count   891.000000  891.000000  891.000000  714.000000  891.000000   \n",
       "mean    446.000000    0.383838    2.308642   29.699118    0.523008   \n",
       "std     257.353842    0.486592    0.836071   14.526497    1.102743   \n",
       "min       1.000000    0.000000    1.000000    0.420000    0.000000   \n",
       "25%     223.500000    0.000000    2.000000   20.125000    0.000000   \n",
       "50%     446.000000    0.000000    3.000000   28.000000    0.000000   \n",
       "75%     668.500000    1.000000    3.000000   38.000000    1.000000   \n",
       "max     891.000000    1.000000    3.000000   80.000000    8.000000   \n",
       "\n",
       "            Parch        Fare  \n",
       "count  891.000000  891.000000  \n",
       "mean     0.381594   32.204208  \n",
       "std      0.806057   49.693429  \n",
       "min      0.000000    0.000000  \n",
       "25%      0.000000    7.910400  \n",
       "50%      0.000000   14.454200  \n",
       "75%      0.000000   31.000000  \n",
       "max      6.000000  512.329200  "
      ]
     },
     "execution_count": 3,
     "metadata": {},
     "output_type": "execute_result"
    }
   ],
   "source": [
    "info_entrenamiento.describe()"
   ]
  },
  {
   "cell_type": "markdown",
   "id": "attended-bathroom",
   "metadata": {},
   "source": [
    "Podemos ver que en el set para entrenar el modelo, 38% sobrevivieron y que las edades de los pasageros (no todas estan registradas) va desde 0.4 años (bebe) a 80 años"
   ]
  },
  {
   "cell_type": "code",
   "execution_count": 4,
   "id": "harmful-parks",
   "metadata": {},
   "outputs": [
    {
     "data": {
      "text/html": [
       "<div>\n",
       "<style scoped>\n",
       "    .dataframe tbody tr th:only-of-type {\n",
       "        vertical-align: middle;\n",
       "    }\n",
       "\n",
       "    .dataframe tbody tr th {\n",
       "        vertical-align: top;\n",
       "    }\n",
       "\n",
       "    .dataframe thead th {\n",
       "        text-align: right;\n",
       "    }\n",
       "</style>\n",
       "<table border=\"1\" class=\"dataframe\">\n",
       "  <thead>\n",
       "    <tr style=\"text-align: right;\">\n",
       "      <th></th>\n",
       "      <th>PassengerId</th>\n",
       "      <th>Survived</th>\n",
       "      <th>Pclass</th>\n",
       "      <th>Name</th>\n",
       "      <th>Sex</th>\n",
       "      <th>Age</th>\n",
       "      <th>SibSp</th>\n",
       "      <th>Parch</th>\n",
       "      <th>Ticket</th>\n",
       "      <th>Fare</th>\n",
       "      <th>Cabin</th>\n",
       "      <th>Embarked</th>\n",
       "    </tr>\n",
       "  </thead>\n",
       "  <tbody>\n",
       "    <tr>\n",
       "      <th>0</th>\n",
       "      <td>1</td>\n",
       "      <td>0</td>\n",
       "      <td>3</td>\n",
       "      <td>Braund, Mr. Owen Harris</td>\n",
       "      <td>male</td>\n",
       "      <td>22.0</td>\n",
       "      <td>1</td>\n",
       "      <td>0</td>\n",
       "      <td>A/5 21171</td>\n",
       "      <td>7.2500</td>\n",
       "      <td>NaN</td>\n",
       "      <td>S</td>\n",
       "    </tr>\n",
       "    <tr>\n",
       "      <th>1</th>\n",
       "      <td>2</td>\n",
       "      <td>1</td>\n",
       "      <td>1</td>\n",
       "      <td>Cumings, Mrs. John Bradley (Florence Briggs Th...</td>\n",
       "      <td>female</td>\n",
       "      <td>38.0</td>\n",
       "      <td>1</td>\n",
       "      <td>0</td>\n",
       "      <td>PC 17599</td>\n",
       "      <td>71.2833</td>\n",
       "      <td>C85</td>\n",
       "      <td>C</td>\n",
       "    </tr>\n",
       "    <tr>\n",
       "      <th>2</th>\n",
       "      <td>3</td>\n",
       "      <td>1</td>\n",
       "      <td>3</td>\n",
       "      <td>Heikkinen, Miss. Laina</td>\n",
       "      <td>female</td>\n",
       "      <td>26.0</td>\n",
       "      <td>0</td>\n",
       "      <td>0</td>\n",
       "      <td>STON/O2. 3101282</td>\n",
       "      <td>7.9250</td>\n",
       "      <td>NaN</td>\n",
       "      <td>S</td>\n",
       "    </tr>\n",
       "    <tr>\n",
       "      <th>3</th>\n",
       "      <td>4</td>\n",
       "      <td>1</td>\n",
       "      <td>1</td>\n",
       "      <td>Futrelle, Mrs. Jacques Heath (Lily May Peel)</td>\n",
       "      <td>female</td>\n",
       "      <td>35.0</td>\n",
       "      <td>1</td>\n",
       "      <td>0</td>\n",
       "      <td>113803</td>\n",
       "      <td>53.1000</td>\n",
       "      <td>C123</td>\n",
       "      <td>S</td>\n",
       "    </tr>\n",
       "    <tr>\n",
       "      <th>4</th>\n",
       "      <td>5</td>\n",
       "      <td>0</td>\n",
       "      <td>3</td>\n",
       "      <td>Allen, Mr. William Henry</td>\n",
       "      <td>male</td>\n",
       "      <td>35.0</td>\n",
       "      <td>0</td>\n",
       "      <td>0</td>\n",
       "      <td>373450</td>\n",
       "      <td>8.0500</td>\n",
       "      <td>NaN</td>\n",
       "      <td>S</td>\n",
       "    </tr>\n",
       "    <tr>\n",
       "      <th>5</th>\n",
       "      <td>6</td>\n",
       "      <td>0</td>\n",
       "      <td>3</td>\n",
       "      <td>Moran, Mr. James</td>\n",
       "      <td>male</td>\n",
       "      <td>NaN</td>\n",
       "      <td>0</td>\n",
       "      <td>0</td>\n",
       "      <td>330877</td>\n",
       "      <td>8.4583</td>\n",
       "      <td>NaN</td>\n",
       "      <td>Q</td>\n",
       "    </tr>\n",
       "    <tr>\n",
       "      <th>6</th>\n",
       "      <td>7</td>\n",
       "      <td>0</td>\n",
       "      <td>1</td>\n",
       "      <td>McCarthy, Mr. Timothy J</td>\n",
       "      <td>male</td>\n",
       "      <td>54.0</td>\n",
       "      <td>0</td>\n",
       "      <td>0</td>\n",
       "      <td>17463</td>\n",
       "      <td>51.8625</td>\n",
       "      <td>E46</td>\n",
       "      <td>S</td>\n",
       "    </tr>\n",
       "    <tr>\n",
       "      <th>7</th>\n",
       "      <td>8</td>\n",
       "      <td>0</td>\n",
       "      <td>3</td>\n",
       "      <td>Palsson, Master. Gosta Leonard</td>\n",
       "      <td>male</td>\n",
       "      <td>2.0</td>\n",
       "      <td>3</td>\n",
       "      <td>1</td>\n",
       "      <td>349909</td>\n",
       "      <td>21.0750</td>\n",
       "      <td>NaN</td>\n",
       "      <td>S</td>\n",
       "    </tr>\n",
       "  </tbody>\n",
       "</table>\n",
       "</div>"
      ],
      "text/plain": [
       "   PassengerId  Survived  Pclass  \\\n",
       "0            1         0       3   \n",
       "1            2         1       1   \n",
       "2            3         1       3   \n",
       "3            4         1       1   \n",
       "4            5         0       3   \n",
       "5            6         0       3   \n",
       "6            7         0       1   \n",
       "7            8         0       3   \n",
       "\n",
       "                                                Name     Sex   Age  SibSp  \\\n",
       "0                            Braund, Mr. Owen Harris    male  22.0      1   \n",
       "1  Cumings, Mrs. John Bradley (Florence Briggs Th...  female  38.0      1   \n",
       "2                             Heikkinen, Miss. Laina  female  26.0      0   \n",
       "3       Futrelle, Mrs. Jacques Heath (Lily May Peel)  female  35.0      1   \n",
       "4                           Allen, Mr. William Henry    male  35.0      0   \n",
       "5                                   Moran, Mr. James    male   NaN      0   \n",
       "6                            McCarthy, Mr. Timothy J    male  54.0      0   \n",
       "7                     Palsson, Master. Gosta Leonard    male   2.0      3   \n",
       "\n",
       "   Parch            Ticket     Fare Cabin Embarked  \n",
       "0      0         A/5 21171   7.2500   NaN        S  \n",
       "1      0          PC 17599  71.2833   C85        C  \n",
       "2      0  STON/O2. 3101282   7.9250   NaN        S  \n",
       "3      0            113803  53.1000  C123        S  \n",
       "4      0            373450   8.0500   NaN        S  \n",
       "5      0            330877   8.4583   NaN        Q  \n",
       "6      0             17463  51.8625   E46        S  \n",
       "7      1            349909  21.0750   NaN        S  "
      ]
     },
     "execution_count": 4,
     "metadata": {},
     "output_type": "execute_result"
    }
   ],
   "source": [
    "info_entrenamiento.head(8)"
   ]
  },
  {
   "cell_type": "markdown",
   "id": "upset-profile",
   "metadata": {},
   "source": [
    "# 1. Buscando los nulos"
   ]
  },
  {
   "cell_type": "code",
   "execution_count": 5,
   "id": "linear-theory",
   "metadata": {},
   "outputs": [
    {
     "data": {
      "text/html": [
       "<div>\n",
       "<style scoped>\n",
       "    .dataframe tbody tr th:only-of-type {\n",
       "        vertical-align: middle;\n",
       "    }\n",
       "\n",
       "    .dataframe tbody tr th {\n",
       "        vertical-align: top;\n",
       "    }\n",
       "\n",
       "    .dataframe thead th {\n",
       "        text-align: right;\n",
       "    }\n",
       "</style>\n",
       "<table border=\"1\" class=\"dataframe\">\n",
       "  <thead>\n",
       "    <tr style=\"text-align: right;\">\n",
       "      <th></th>\n",
       "      <th>Total</th>\n",
       "      <th>%</th>\n",
       "    </tr>\n",
       "  </thead>\n",
       "  <tbody>\n",
       "    <tr>\n",
       "      <th>Cabin</th>\n",
       "      <td>687</td>\n",
       "      <td>77.1</td>\n",
       "    </tr>\n",
       "    <tr>\n",
       "      <th>Age</th>\n",
       "      <td>177</td>\n",
       "      <td>19.9</td>\n",
       "    </tr>\n",
       "    <tr>\n",
       "      <th>Embarked</th>\n",
       "      <td>2</td>\n",
       "      <td>0.2</td>\n",
       "    </tr>\n",
       "    <tr>\n",
       "      <th>PassengerId</th>\n",
       "      <td>0</td>\n",
       "      <td>0.0</td>\n",
       "    </tr>\n",
       "    <tr>\n",
       "      <th>Survived</th>\n",
       "      <td>0</td>\n",
       "      <td>0.0</td>\n",
       "    </tr>\n",
       "  </tbody>\n",
       "</table>\n",
       "</div>"
      ],
      "text/plain": [
       "             Total     %\n",
       "Cabin          687  77.1\n",
       "Age            177  19.9\n",
       "Embarked         2   0.2\n",
       "PassengerId      0   0.0\n",
       "Survived         0   0.0"
      ]
     },
     "execution_count": 5,
     "metadata": {},
     "output_type": "execute_result"
    }
   ],
   "source": [
    "\n",
    "total = info_entrenamiento.isnull().sum().sort_values(ascending=False)\n",
    "\n",
    "percent_1 = info_entrenamiento.isnull().sum()/info_entrenamiento.isnull().count()*100\n",
    "\n",
    "\n",
    "percent_2 = (round(percent_1, 1)).sort_values(ascending=False)\n",
    "\n",
    "\n",
    "missing_data = pd.concat([total, percent_2], axis=1, keys=['Total', '%'])\n",
    "missing_data.head(5)"
   ]
  },
  {
   "cell_type": "markdown",
   "id": "atomic-delay",
   "metadata": {},
   "source": [
    "De aqui deducimos que el 77.1% de los datos de cabina son nulos\n",
    "\n",
    "Casi el 20% de edades no fueron registradas\n",
    "\n",
    "Solo el 0.2% no fue registrado el puerto de donde entro el pasajero\n",
    "\n",
    "Los dos datos que faltan de la columna de embarked podemos llenarlos aleatoriamente sin afectar mucho el modelo, pero tendremos problema con la columna de edad que faltan valores y la columna de cabin"
   ]
  },
  {
   "cell_type": "markdown",
   "id": "complex-merchandise",
   "metadata": {},
   "source": [
    "# 2. Analizando la edad y el sexo de los pasajeros"
   ]
  },
  {
   "cell_type": "code",
   "execution_count": 6,
   "id": "decimal-nomination",
   "metadata": {},
   "outputs": [
    {
     "data": {
      "image/png": "[encoded data removed]",
      "text/plain": [
       "<Figure size 1080x360 with 2 Axes>"
      ]
     },
     "metadata": {
      "needs_background": "light"
     },
     "output_type": "display_data"
    }
   ],
   "source": [
    "survived = 'Sobrevivieron'\n",
    "not_survived = 'No sobrevivieron'\n",
    "\n",
    "fig, axes = plt.subplots(nrows=1, ncols=2,figsize=(15, 5))\n",
    "\n",
    "#plt.show()\n",
    "\n",
    "\n",
    "mujeres = info_entrenamiento[info_entrenamiento['Sex']=='female']\n",
    "hombres = info_entrenamiento[info_entrenamiento['Sex']=='male']\n",
    "\n",
    "\n",
    "ax = sns.distplot(mujeres[mujeres['Survived']==1].Age.dropna(), bins=18, label = survived, ax = axes[0], kde =False)\n",
    "ax = sns.distplot(mujeres[mujeres['Survived']==0].Age.dropna(), bins=40, label = not_survived, ax = axes[0], kde =False)\n",
    "\n",
    "ax.legend()\n",
    "\n",
    "ax.set_title('Mujeres')\n",
    "\n",
    "\n",
    "ax = sns.distplot(hombres[hombres['Survived']==1].Age.dropna(), bins=18, label = survived, ax = axes[1], kde = False)\n",
    "\n",
    "ax = sns.distplot(hombres[hombres['Survived']==0].Age.dropna(), bins=40, label = not_survived, ax = axes[1], kde = False)\n",
    "\n",
    "ax.legend()\n",
    "\n",
    "ax.set_title('Hombres')\n",
    "\n",
    "plt.show()"
   ]
  },
  {
   "cell_type": "markdown",
   "id": "active-lotus",
   "metadata": {},
   "source": [
    "Aqui podemos apreciar que las mujeres de 14-40 años sobrevivieron mucho mas que los hombres.\n",
    "\n",
    "Y que los hombres entre 18-30 años son los que mas sobrevivieron dentro de los hombres."
   ]
  },
  {
   "cell_type": "markdown",
   "id": "paperback-corruption",
   "metadata": {},
   "source": [
    "# 3. Analizando el puerto en el que embarcaron, la clase social y su sexo"
   ]
  },
  {
   "cell_type": "code",
   "execution_count": 7,
   "id": "operational-magnet",
   "metadata": {},
   "outputs": [
    {
     "data": {
      "image/png": "[encoded data removed]",
      "text/plain": [
       "<Figure size 588.9x972 with 3 Axes>"
      ]
     },
     "metadata": {
      "needs_background": "light"
     },
     "output_type": "display_data"
    }
   ],
   "source": [
    "FacetGrid = sns.FacetGrid(info_entrenamiento, row='Embarked', size=4.5, aspect=1.6)\n",
    "FacetGrid.map(sns.pointplot, 'Pclass', 'Survived', 'Sex', palette=None,  order=None, hue_order=None )\n",
    "FacetGrid.add_legend()\n",
    "\n",
    "plt.show()"
   ]
  },
  {
   "cell_type": "markdown",
   "id": "verified-classification",
   "metadata": {},
   "source": [
    "Aqui estamos comparando el puerto C = Cherbourg, Q = Queenstown, S = Southampton y la cantidad de hombres y mujeres que sobrevivieron dependiendo su clase social "
   ]
  },
  {
   "cell_type": "markdown",
   "id": "appropriate-remark",
   "metadata": {},
   "source": [
    "# 4. Analizando la relacion entre clase social y sobrevivencia"
   ]
  },
  {
   "cell_type": "code",
   "execution_count": 8,
   "id": "cardiovascular-possession",
   "metadata": {},
   "outputs": [
    {
     "data": {
      "image/png": "[encoded data removed]",
      "text/plain": [
       "<Figure size 432x288 with 1 Axes>"
      ]
     },
     "metadata": {
      "needs_background": "light"
     },
     "output_type": "display_data"
    }
   ],
   "source": [
    "sns.barplot(x='Pclass', y='Survived', data=info_entrenamiento,ci=None)\n",
    "plt.show()"
   ]
  },
  {
   "cell_type": "markdown",
   "id": "alternative-outreach",
   "metadata": {},
   "source": [
    "Se promedian la sobrevivencia de cada clase social.\n",
    "\n",
    "En comparacion, la sobrevivencia aumenta si eres de clase social alta."
   ]
  },
  {
   "cell_type": "code",
   "execution_count": 9,
   "id": "understood-noise",
   "metadata": {},
   "outputs": [
    {
     "data": {
      "image/png": "[encoded data removed]",
      "text/plain": [
       "<Figure size 514.88x475.2 with 6 Axes>"
      ]
     },
     "metadata": {
      "needs_background": "light"
     },
     "output_type": "display_data"
    }
   ],
   "source": [
    "grid = sns.FacetGrid(info_entrenamiento, col='Survived', row='Pclass',size=2.2, aspect=1.6)\n",
    "grid.map(plt.hist, 'Age', alpha=.5, bins=20)\n",
    "grid.add_legend()\n",
    "\n",
    "plt.show()"
   ]
  },
  {
   "cell_type": "markdown",
   "id": "after-wheel",
   "metadata": {},
   "source": [
    "Otra comparacion en la que se ve que el grupo con menos sobreviviencia son los de clase social baja de entre 18-40\n",
    "\n",
    "Y los que tienen mayor sobrevivencia son los de clase alta de entre 18-40"
   ]
  },
  {
   "cell_type": "markdown",
   "id": "martial-stretch",
   "metadata": {},
   "source": [
    "# 5. Creando un nuevo campo que muestra los familiares de los pasajeros\n",
    "\n",
    "Ya tenemos el campo de \"SibSp\" que simboliza hermanos y conyuges y el campo \"ParCh\" que simboliza los padres e hijos.\n",
    "\n",
    "Crearemos un nuevo campo que nos mostrara el numero total de familiares de cada pasajero del titanic."
   ]
  },
  {
   "cell_type": "code",
   "execution_count": 10,
   "id": "adolescent-playing",
   "metadata": {},
   "outputs": [
    {
     "data": {
      "text/plain": [
       "1    537\n",
       "0    354\n",
       "Name: alone, dtype: int64"
      ]
     },
     "execution_count": 10,
     "metadata": {},
     "output_type": "execute_result"
    }
   ],
   "source": [
    "\n",
    "data = [info_entrenamiento,info_prueba]\n",
    "for dataset in data:\n",
    "    dataset['relatives'] = dataset['SibSp'] + dataset['Parch']\n",
    "    dataset.loc[dataset['relatives'] > 0, 'alone'] = 0\n",
    "    dataset.loc[dataset['relatives'] == 0, 'alone'] = 1\n",
    "    dataset['alone'] = dataset['alone'].astype(int)\n",
    "info_entrenamiento['alone'].value_counts()\n"
   ]
  },
  {
   "cell_type": "markdown",
   "id": "split-martin",
   "metadata": {},
   "source": [
    "Hay mas gente sola que acompañada"
   ]
  },
  {
   "cell_type": "code",
   "execution_count": 11,
   "id": "miniature-inquiry",
   "metadata": {},
   "outputs": [
    {
     "data": {
      "image/png": "[encoded data removed]",
      "text/plain": [
       "<Figure size 900x360 with 1 Axes>"
      ]
     },
     "metadata": {
      "needs_background": "light"
     },
     "output_type": "display_data"
    }
   ],
   "source": [
    "axes = sns.factorplot('relatives','Survived', \n",
    "                      data=info_entrenamiento, aspect = 2.5, )"
   ]
  },
  {
   "cell_type": "markdown",
   "id": "affecting-winning",
   "metadata": {},
   "source": [
    " Los que tienen 1-3 familiares tienen mas probabilidades de sobrevivir"
   ]
  },
  {
   "cell_type": "markdown",
   "id": "perfect-abraham",
   "metadata": {},
   "source": [
    "# Preprocesamiento de datos:"
   ]
  },
  {
   "cell_type": "markdown",
   "id": "grave-dance",
   "metadata": {},
   "source": [
    "Creamos un nuevo campo que indique la cubierta de cada pasajero"
   ]
  },
  {
   "cell_type": "code",
   "execution_count": 12,
   "id": "nonprofit-masters",
   "metadata": {},
   "outputs": [],
   "source": [
    "import re\n",
    "deck = {\"A\": 1, \"B\": 2, \"C\": 3, \"D\": 4, \"E\": 5, \"F\": 6, \"G\": 7, \"U\": 8}\n",
    "data = [info_entrenamiento, info_prueba]\n",
    "\n",
    "for dataset in data:\n",
    "    dataset['Cabin'] = dataset['Cabin'].fillna(\"U0\")\n",
    "    dataset['Deck'] = dataset['Cabin'].map(lambda x: re.compile(\"([a-zA-Z]+)\").search(x).group())\n",
    "    dataset['Deck'] = dataset['Deck'].map(deck)\n",
    "    dataset['Deck'] = dataset['Deck'].fillna(0)\n",
    "    dataset['Deck'] = dataset['Deck'].astype(int)\n",
    "\n",
    "info_entrenamiento = info_entrenamiento.drop(['Cabin'], axis=1)\n",
    "info_prueba = info_prueba.drop(['Cabin'], axis=1)"
   ]
  },
  {
   "cell_type": "markdown",
   "id": "shaped-authentication",
   "metadata": {},
   "source": [
    "Generamos valores aleatorios de edad basados en la media y la desviacion estandar de los valores existentes"
   ]
  },
  {
   "cell_type": "code",
   "execution_count": 13,
   "id": "novel-barcelona",
   "metadata": {},
   "outputs": [],
   "source": [
    "data = [info_entrenamiento, info_prueba]\n",
    "\n",
    "for dataset in data:\n",
    "    mean = info_entrenamiento[\"Age\"].mean()\n",
    "    std = info_prueba[\"Age\"].std()\n",
    "    is_null = dataset[\"Age\"].isnull().sum()\n",
    "    \n",
    "    rand_age = np.random.randint(mean - std, mean + std, size = is_null)\n",
    "    \n",
    "    age_slice = dataset[\"Age\"].copy()\n",
    "    age_slice[np.isnan(age_slice)] = rand_age\n",
    "    dataset[\"Age\"] = age_slice\n",
    "    dataset[\"Age\"] = dataset[\"Age\"].astype(int)\n"
   ]
  },
  {
   "cell_type": "markdown",
   "id": "informal-charter",
   "metadata": {},
   "source": [
    "Llenamos los valores vacios de puertos con los dos mas comunes"
   ]
  },
  {
   "cell_type": "code",
   "execution_count": 14,
   "id": "exciting-robertson",
   "metadata": {},
   "outputs": [
    {
     "data": {
      "text/plain": [
       "count     889\n",
       "unique      3\n",
       "top         S\n",
       "freq      644\n",
       "Name: Embarked, dtype: object"
      ]
     },
     "execution_count": 14,
     "metadata": {},
     "output_type": "execute_result"
    }
   ],
   "source": [
    "info_entrenamiento['Embarked'].describe()\n"
   ]
  },
  {
   "cell_type": "code",
   "execution_count": 15,
   "id": "emerging-combining",
   "metadata": {},
   "outputs": [],
   "source": [
    "valor_comun = 'S'\n",
    "data = [info_entrenamiento, info_prueba]\n",
    "\n",
    "for dataset in data:\n",
    "    dataset['Embarked'] = dataset['Embarked'].fillna(valor_comun)"
   ]
  },
  {
   "cell_type": "markdown",
   "id": "signal-atlanta",
   "metadata": {},
   "source": [
    "Convertimos \"Fare\" de float a int"
   ]
  },
  {
   "cell_type": "code",
   "execution_count": 16,
   "id": "fluid-instruction",
   "metadata": {},
   "outputs": [],
   "source": [
    "data = [info_entrenamiento, info_prueba]\n",
    "\n",
    "for dataset in data:\n",
    "    dataset['Fare'] = dataset['Fare'].fillna(0)\n",
    "    dataset['Fare'] = dataset['Fare'].astype(int)\n"
   ]
  },
  {
   "cell_type": "markdown",
   "id": "instrumental-baker",
   "metadata": {},
   "source": [
    "Obtenemos los titulos de las personas y creamos un nuevo campo numerico y eliminamos el campo de nombre"
   ]
  },
  {
   "cell_type": "code",
   "execution_count": 17,
   "id": "serial-oriental",
   "metadata": {},
   "outputs": [],
   "source": [
    "data = [info_entrenamiento, info_prueba]\n",
    "titles = {\"Mr\": 1, \"Miss\": 2, \"Mrs\": 3, \"Master\": 4, \"Rare\": 5}\n",
    "\n",
    "for dataset in data:\n",
    "    \n",
    "    dataset['Title'] = dataset.Name.str.extract(' ([A-Za-z]+)\\.', expand=False)\n",
    "    \n",
    "    dataset['Title'] = dataset['Title'].replace(['Lady', 'Countess','Capt', 'Col','Don', 'Dr',\\\n",
    "                                            'Major', 'Rev', 'Sir', 'Jonkheer', 'Dona'], 'Rare')\n",
    "    dataset['Title'] = dataset['Title'].replace('Mlle', 'Miss')\n",
    "    dataset['Title'] = dataset['Title'].replace('Ms', 'Miss')\n",
    "    dataset['Title'] = dataset['Title'].replace('Mme', 'Mrs')\n",
    "    \n",
    "    dataset['Title'] = dataset['Title'].map(titles)\n",
    "    \n",
    "    dataset['Title'] = dataset['Title'].fillna(0)\n",
    "    \n",
    "info_entrenamiento = info_entrenamiento.drop(['Name'], axis=1)\n",
    "info_prueba = info_prueba.drop(['Name'], axis=1)\n",
    "\n"
   ]
  },
  {
   "cell_type": "markdown",
   "id": "super-lancaster",
   "metadata": {},
   "source": [
    "Convertir sexo en numerico"
   ]
  },
  {
   "cell_type": "code",
   "execution_count": 18,
   "id": "separate-listing",
   "metadata": {},
   "outputs": [],
   "source": [
    "genders = {\"male\": 0, \"female\": 1}\n",
    "data = [info_entrenamiento, info_prueba]\n",
    "\n",
    "for dataset in data:\n",
    "    dataset['Sex'] = dataset['Sex'].map(genders)\n",
    "\n",
    "#info_entrenamiento.head(35)"
   ]
  },
  {
   "cell_type": "markdown",
   "id": "embedded-puppy",
   "metadata": {},
   "source": [
    "Borramos \"Ticket\" del dataset debido a que no nos es relevante"
   ]
  },
  {
   "cell_type": "code",
   "execution_count": 19,
   "id": "absolute-connecticut",
   "metadata": {},
   "outputs": [],
   "source": [
    "info_entrenamiento = info_entrenamiento.drop(['Ticket'], axis=1)\n",
    "info_prueba = info_prueba.drop(['Ticket'], axis=1)"
   ]
  },
  {
   "cell_type": "markdown",
   "id": "secondary-airfare",
   "metadata": {},
   "source": [
    "Convertimos el puerto a numericos"
   ]
  },
  {
   "cell_type": "code",
   "execution_count": 20,
   "id": "weighted-hampton",
   "metadata": {},
   "outputs": [],
   "source": [
    "ports = {\"S\": 0, \"C\": 1, \"Q\": 2}\n",
    "data = [info_entrenamiento, info_prueba]\n",
    "\n",
    "for dataset in data:\n",
    "    dataset['Embarked'] = dataset['Embarked'].map(ports)"
   ]
  },
  {
   "cell_type": "markdown",
   "id": "meaning-cache",
   "metadata": {},
   "source": [
    "# Creando categorias"
   ]
  },
  {
   "cell_type": "markdown",
   "id": "lovely-addition",
   "metadata": {},
   "source": [
    "Creamos el campo \"AgeGroup\" en el que se clasificaran por edades los pasajeros"
   ]
  },
  {
   "cell_type": "code",
   "execution_count": 21,
   "id": "documentary-integer",
   "metadata": {},
   "outputs": [],
   "source": [
    "data = [info_entrenamiento, info_prueba]\n",
    "for dataset in data:\n",
    "    dataset['Age'] = dataset['Age'].astype(int)\n",
    "    dataset.loc[ dataset['Age'] <= 11, 'Age'] = 0\n",
    "    dataset.loc[(dataset['Age'] > 11) & (dataset['Age'] <= 18), 'Age'] = 1\n",
    "    dataset.loc[(dataset['Age'] > 18) & (dataset['Age'] <= 22), 'Age'] = 2\n",
    "    dataset.loc[(dataset['Age'] > 22) & (dataset['Age'] <= 27), 'Age'] = 3\n",
    "    dataset.loc[(dataset['Age'] > 27) & (dataset['Age'] <= 33), 'Age'] = 4\n",
    "    dataset.loc[(dataset['Age'] > 33) & (dataset['Age'] <= 40), 'Age'] = 5\n",
    "    dataset.loc[(dataset['Age'] > 40) & (dataset['Age'] <= 66), 'Age'] = 6\n",
    "    dataset.loc[ dataset['Age'] > 66, 'Age'] = 6\n",
    "\n"
   ]
  },
  {
   "cell_type": "markdown",
   "id": "spoken-choir",
   "metadata": {},
   "source": [
    "Creamos categorias para \"Fare\" o \"Tarifa\" de los pasajeros"
   ]
  },
  {
   "cell_type": "code",
   "execution_count": 22,
   "id": "usual-popularity",
   "metadata": {},
   "outputs": [],
   "source": [
    "data = [info_entrenamiento, info_prueba]\n",
    "\n",
    "for dataset in data:\n",
    "    dataset.loc[ dataset['Fare'] <= 7.91, 'Fare'] = 0\n",
    "    dataset.loc[(dataset['Fare'] > 7.91) & (dataset['Fare'] <= 14.454), 'Fare'] = 1\n",
    "    dataset.loc[(dataset['Fare'] > 14.454) & (dataset['Fare'] <= 31), 'Fare']   = 2\n",
    "    dataset.loc[(dataset['Fare'] > 31) & (dataset['Fare'] <= 99), 'Fare']   = 3\n",
    "    dataset.loc[(dataset['Fare'] > 99) & (dataset['Fare'] <= 250), 'Fare']   = 4\n",
    "    dataset.loc[ dataset['Fare'] > 250, 'Fare'] = 5\n",
    "    dataset['Fare'] = dataset['Fare'].astype(int)\n",
    "\n",
    "#info_entrenamiento.head(5)"
   ]
  },
  {
   "cell_type": "markdown",
   "id": "dramatic-species",
   "metadata": {},
   "source": [
    "# Creando nuevos campos"
   ]
  },
  {
   "cell_type": "markdown",
   "id": "private-james",
   "metadata": {},
   "source": [
    "Clase por edad"
   ]
  },
  {
   "cell_type": "code",
   "execution_count": 23,
   "id": "opposite-ecuador",
   "metadata": {},
   "outputs": [],
   "source": [
    "data = [info_entrenamiento, info_prueba]\n",
    "for dataset in data:\n",
    "    dataset['Age_Class']= dataset['Age']* dataset['Pclass']\n"
   ]
  },
  {
   "cell_type": "markdown",
   "id": "excess-format",
   "metadata": {},
   "source": [
    "Tarifa por persona"
   ]
  },
  {
   "cell_type": "code",
   "execution_count": 24,
   "id": "dental-arkansas",
   "metadata": {},
   "outputs": [],
   "source": [
    "for dataset in data:\n",
    "    dataset['Fare_Per_Person'] = dataset['Fare']/(dataset['relatives']+1)\n",
    "    dataset['Fare_Per_Person'] = dataset['Fare_Per_Person'].astype(int)\n",
    "\n",
    "    \n",
    "#info_entrenamiento.head(10)"
   ]
  },
  {
   "cell_type": "markdown",
   "id": "written-while",
   "metadata": {},
   "source": [
    "# Preparando datos de entrenamiento"
   ]
  },
  {
   "cell_type": "code",
   "execution_count": 25,
   "id": "dried-webmaster",
   "metadata": {},
   "outputs": [],
   "source": [
    "info_entrenamiento = info_entrenamiento.drop(\"PassengerId\",axis=1)\n",
    "\n",
    "Y_entrenamiento = info_entrenamiento[\"Survived\"]\n",
    "X_entrenamiento = info_entrenamiento.drop(\"Survived\",axis=1)\n",
    "\n",
    "X_pruebas = info_prueba.drop(\"PassengerId\", axis=1).copy()\n",
    "\n",
    "#X_entrenamiento.head(10)\n",
    "#Y_entrenamiento\n",
    "#X_pruebas.head(10)"
   ]
  },
  {
   "cell_type": "markdown",
   "id": "juvenile-basket",
   "metadata": {},
   "source": [
    "# Modelos"
   ]
  },
  {
   "cell_type": "markdown",
   "id": "effective-romance",
   "metadata": {},
   "source": [
    "# Algoritmo de gradiente estocástico"
   ]
  },
  {
   "cell_type": "code",
   "execution_count": 26,
   "id": "civilian-hospital",
   "metadata": {},
   "outputs": [],
   "source": [
    "sgd = linear_model.SGDClassifier(max_iter=5, tol=None)\n",
    "sgd.fit(X_entrenamiento, Y_entrenamiento)\n",
    "Y_prediccion = sgd.predict(X_pruebas)\n",
    "\n",
    "sgd.score(X_entrenamiento, Y_entrenamiento)\n",
    "\n",
    "acc_sgd = round(sgd.score(X_entrenamiento, Y_entrenamiento) * 100, 2)"
   ]
  },
  {
   "cell_type": "markdown",
   "id": "built-mattress",
   "metadata": {},
   "source": [
    "# Random Forest"
   ]
  },
  {
   "cell_type": "code",
   "execution_count": 27,
   "id": "laughing-constant",
   "metadata": {},
   "outputs": [],
   "source": [
    "random_forest = RandomForestClassifier(n_estimators=100)\n",
    "random_forest.fit(X_entrenamiento, Y_entrenamiento)\n",
    "\n",
    "Y_prediction = random_forest.predict(X_pruebas)\n",
    "\n",
    "random_forest.score(X_entrenamiento, Y_entrenamiento)\n",
    "acc_random_forest = round(random_forest.score(X_entrenamiento, Y_entrenamiento) * 100, 2)"
   ]
  },
  {
   "cell_type": "markdown",
   "id": "shared-cookbook",
   "metadata": {},
   "source": [
    "# Regresión logística"
   ]
  },
  {
   "cell_type": "code",
   "execution_count": 28,
   "id": "heard-wealth",
   "metadata": {},
   "outputs": [],
   "source": [
    "logreg = LogisticRegression()\n",
    "logreg.fit(X_entrenamiento, Y_entrenamiento)\n",
    "\n",
    "Y_prediccion = logreg.predict(X_pruebas)\n",
    "\n",
    "acc_log = round(logreg.score(X_entrenamiento, Y_entrenamiento) * 100, 2)"
   ]
  },
  {
   "cell_type": "markdown",
   "id": "innocent-paintball",
   "metadata": {},
   "source": [
    "# k vecinos más próximos"
   ]
  },
  {
   "cell_type": "code",
   "execution_count": 29,
   "id": "royal-nylon",
   "metadata": {},
   "outputs": [],
   "source": [
    "knn = KNeighborsClassifier(n_neighbors = 3)\n",
    "knn.fit(X_entrenamiento, Y_entrenamiento)\n",
    "Y_prediccion = knn.predict(X_pruebas)\n",
    "acc_knn = round(knn.score(X_entrenamiento, Y_entrenamiento) * 100, 2)"
   ]
  },
  {
   "cell_type": "markdown",
   "id": "alone-cover",
   "metadata": {},
   "source": [
    "# Clasificador bayesiano ingenuo"
   ]
  },
  {
   "cell_type": "code",
   "execution_count": 30,
   "id": "patent-candle",
   "metadata": {},
   "outputs": [],
   "source": [
    "gaussian = GaussianNB()\n",
    "gaussian.fit(X_entrenamiento, Y_entrenamiento)\n",
    "Y_prediccion = gaussian.predict(X_pruebas)\n",
    "acc_gaussian = round(gaussian.score(X_entrenamiento, Y_entrenamiento) * 100, 2)"
   ]
  },
  {
   "cell_type": "markdown",
   "id": "checked-windows",
   "metadata": {},
   "source": [
    "# Perceptron multicapa"
   ]
  },
  {
   "cell_type": "code",
   "execution_count": 31,
   "id": "everyday-button",
   "metadata": {},
   "outputs": [],
   "source": [
    "perceptron = Perceptron(max_iter=5)\n",
    "perceptron.fit(X_entrenamiento, Y_entrenamiento)\n",
    "\n",
    "Y_prediccion = perceptron.predict(X_pruebas)\n",
    "\n",
    "acc_perceptron = round(perceptron.score(X_entrenamiento, Y_entrenamiento) * 100, 2)"
   ]
  },
  {
   "cell_type": "markdown",
   "id": "urban-garbage",
   "metadata": {},
   "source": [
    "# Máquina de vectores de apoyo lineal"
   ]
  },
  {
   "cell_type": "code",
   "execution_count": 32,
   "id": "failing-gossip",
   "metadata": {},
   "outputs": [],
   "source": [
    "linear_svc = LinearSVC()\n",
    "linear_svc.fit(X_entrenamiento, Y_entrenamiento)\n",
    "\n",
    "Y_prediccion = linear_svc.predict(X_pruebas)\n",
    "\n",
    "acc_linear_svc = round(linear_svc.score(X_entrenamiento, Y_entrenamiento) * 100, 2)"
   ]
  },
  {
   "cell_type": "markdown",
   "id": "focal-working",
   "metadata": {},
   "source": [
    "# Árboles de decisión"
   ]
  },
  {
   "cell_type": "code",
   "execution_count": 33,
   "id": "coral-liability",
   "metadata": {},
   "outputs": [],
   "source": [
    "decision_tree = DecisionTreeClassifier()\n",
    "decision_tree.fit(X_entrenamiento, Y_entrenamiento)\n",
    "Y_prediccion = decision_tree.predict(X_pruebas)\n",
    "acc_decision_tree = round(decision_tree.score(X_entrenamiento, Y_entrenamiento) * 100, 2)"
   ]
  },
  {
   "cell_type": "markdown",
   "id": "improved-collectible",
   "metadata": {},
   "source": [
    "# Probando la efectividad de cada modelo"
   ]
  },
  {
   "cell_type": "code",
   "execution_count": 34,
   "id": "joined-tomorrow",
   "metadata": {},
   "outputs": [
    {
     "data": {
      "text/html": [
       "<div>\n",
       "<style scoped>\n",
       "    .dataframe tbody tr th:only-of-type {\n",
       "        vertical-align: middle;\n",
       "    }\n",
       "\n",
       "    .dataframe tbody tr th {\n",
       "        vertical-align: top;\n",
       "    }\n",
       "\n",
       "    .dataframe thead th {\n",
       "        text-align: right;\n",
       "    }\n",
       "</style>\n",
       "<table border=\"1\" class=\"dataframe\">\n",
       "  <thead>\n",
       "    <tr style=\"text-align: right;\">\n",
       "      <th></th>\n",
       "      <th>Modelo</th>\n",
       "    </tr>\n",
       "    <tr>\n",
       "      <th>Puntuacion</th>\n",
       "      <th></th>\n",
       "    </tr>\n",
       "  </thead>\n",
       "  <tbody>\n",
       "    <tr>\n",
       "      <th>92.70</th>\n",
       "      <td>Random Forest</td>\n",
       "    </tr>\n",
       "    <tr>\n",
       "      <th>92.70</th>\n",
       "      <td>Árboles de decisión</td>\n",
       "    </tr>\n",
       "    <tr>\n",
       "      <th>86.98</th>\n",
       "      <td>k vecinos más próximos</td>\n",
       "    </tr>\n",
       "    <tr>\n",
       "      <th>82.27</th>\n",
       "      <td>Perceptron multicapa</td>\n",
       "    </tr>\n",
       "    <tr>\n",
       "      <th>81.37</th>\n",
       "      <td>Máquina de vectores de apoyo lineal</td>\n",
       "    </tr>\n",
       "    <tr>\n",
       "      <th>81.37</th>\n",
       "      <td>Regresión logística</td>\n",
       "    </tr>\n",
       "    <tr>\n",
       "      <th>77.44</th>\n",
       "      <td>Algoritmo de gradiente estocástico</td>\n",
       "    </tr>\n",
       "    <tr>\n",
       "      <th>77.22</th>\n",
       "      <td>Clasificador bayesiano ingenuo</td>\n",
       "    </tr>\n",
       "  </tbody>\n",
       "</table>\n",
       "</div>"
      ],
      "text/plain": [
       "                                         Modelo\n",
       "Puntuacion                                     \n",
       "92.70                             Random Forest\n",
       "92.70                       Árboles de decisión\n",
       "86.98                    k vecinos más próximos\n",
       "82.27                      Perceptron multicapa\n",
       "81.37       Máquina de vectores de apoyo lineal\n",
       "81.37                       Regresión logística\n",
       "77.44        Algoritmo de gradiente estocástico\n",
       "77.22            Clasificador bayesiano ingenuo"
      ]
     },
     "execution_count": 34,
     "metadata": {},
     "output_type": "execute_result"
    }
   ],
   "source": [
    "results = pd.DataFrame({\n",
    "    'Modelo': ['Máquina de vectores de apoyo lineal', 'k vecinos más próximos', 'Regresión logística', \n",
    "              'Random Forest', 'Clasificador bayesiano ingenuo', 'Perceptron multicapa', \n",
    "              'Algoritmo de gradiente estocástico', \n",
    "              'Árboles de decisión'],\n",
    "    'Puntuacion': [acc_linear_svc, acc_knn, acc_log, \n",
    "              acc_random_forest, acc_gaussian, acc_perceptron, \n",
    "              acc_sgd, acc_decision_tree]})\n",
    "result_df = results.sort_values(by='Puntuacion', ascending=False)\n",
    "result_df = result_df.set_index('Puntuacion')\n",
    "result_df.head(9)"
   ]
  },
  {
   "cell_type": "markdown",
   "id": "passive-marketing",
   "metadata": {},
   "source": [
    "# Conclusiones"
   ]
  },
  {
   "cell_type": "markdown",
   "id": "environmental-transportation",
   "metadata": {},
   "source": [
    "Los pasajeros con mas probabilidad de sobrevivir son mujeres de primera clase de entre 14-40 años con 1-3 familiares.\n",
    "\n",
    "Los pasajeros con menos probabilidad de sobrevivir son hombres de tercera clase de entre 18-40 años con mas de 3 familiares.\n",
    "\n",
    "Los modelos que mejor se desempeñaron fueron Random Forest y Arboles de decision.\n",
    "\n",
    "Los modelos que peor se desempeñaron fueron el algoritmo de gradiente estocastico y el clasificador bayesiano ingenuo."
   ]
  },
  {
   "cell_type": "code",
   "execution_count": null,
   "id": "transparent-scotland",
   "metadata": {},
   "outputs": [],
   "source": []
  }
 ],
 "metadata": {
  "kernelspec": {
   "display_name": "Python 3",
   "language": "python",
   "name": "python3"
  },
  "language_info": {
   "codemirror_mode": {
    "name": "ipython",
    "version": 3
   },
   "file_extension": ".py",
   "mimetype": "text/x-python",
   "name": "python",
   "nbconvert_exporter": "python",
   "pygments_lexer": "ipython3",
   "version": "3.9.1"
  }
 },
 "nbformat": 4,
 "nbformat_minor": 5
}
